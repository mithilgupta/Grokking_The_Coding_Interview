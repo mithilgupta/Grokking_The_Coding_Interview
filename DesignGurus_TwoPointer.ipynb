{
 "cells": [
  {
   "cell_type": "code",
   "execution_count": null,
   "id": "liable-butter",
   "metadata": {},
   "outputs": [],
   "source": []
  },
  {
   "cell_type": "code",
   "execution_count": 17,
   "id": "tough-vaccine",
   "metadata": {},
   "outputs": [],
   "source": [
    "# Target Sum\n",
    "\n",
    "\n",
    "def search1(arr, target_sum):\n",
    "    \n",
    "    bottom = 0\n",
    "    top = len(arr)-1\n",
    "    \n",
    "    \n",
    "    while bottom != top:\n",
    "        \n",
    "        if arr[bottom] + arr[top]> target_sum:\n",
    "#             print(bottom, top)\n",
    "            top = top - 1\n",
    "        elif arr[bottom] + arr[top]< target_sum:\n",
    "#             print(bottom, top)\n",
    "            bottom = bottom + 1\n",
    "        elif arr[bottom] + arr[top] == target_sum:\n",
    "#             print(bottom, top)\n",
    "            return [bottom, top]\n",
    "\n",
    "    return [-1, -1]\n"
   ]
  },
  {
   "cell_type": "code",
   "execution_count": 18,
   "id": "activated-knight",
   "metadata": {},
   "outputs": [
    {
     "data": {
      "text/plain": [
       "[-1, -1]"
      ]
     },
     "execution_count": 18,
     "metadata": {},
     "output_type": "execute_result"
    }
   ],
   "source": [
    "search([0, 1, 2, 3, 4], 0)"
   ]
  },
  {
   "cell_type": "code",
   "execution_count": null,
   "id": "conservative-invasion",
   "metadata": {},
   "outputs": [],
   "source": []
  },
  {
   "cell_type": "code",
   "execution_count": 21,
   "id": "described-singing",
   "metadata": {},
   "outputs": [],
   "source": [
    "# Non duplicate Number instances\n",
    "\n",
    "\n",
    "### STILL CAN'T FIGURE THIS ONE OUT.\n",
    "\n",
    "def remove(arr):\n",
    "    \n",
    "    current= 0\n",
    "    next_unique = 0\n",
    "\n",
    "    \n",
    "    while next_unique <= len(arr)-1:\n",
    "        \n",
    "#         print(arr[next_unique])\n",
    "        next_unique +=1\n",
    "        \n",
    "        if arr[next_unique] != arr[current]:\n",
    "            print(arr[current])\n",
    "            current = next_unique\n",
    "            \n",
    "        else:\n",
    "            next_unique +=1\n",
    "            \n",
    "            \n",
    "        \n",
    "        \n",
    "        \n",
    "        \n",
    "    \n",
    "    \n",
    "    \n",
    "\n",
    "\n"
   ]
  },
  {
   "cell_type": "code",
   "execution_count": 22,
   "id": "clean-disaster",
   "metadata": {},
   "outputs": [
    {
     "name": "stdout",
     "output_type": "stream",
     "text": [
      "2\n",
      "3\n",
      "6\n"
     ]
    }
   ],
   "source": [
    "remove([2, 3, 3, 3, 6, 9, 9])"
   ]
  },
  {
   "cell_type": "code",
   "execution_count": null,
   "id": "royal-cologne",
   "metadata": {},
   "outputs": [],
   "source": []
  },
  {
   "cell_type": "code",
   "execution_count": null,
   "id": "architectural-eclipse",
   "metadata": {},
   "outputs": [],
   "source": [
    "# Sum closest to target\n",
    "\n",
    "def search_closest(arr, target_sum):\n",
    "    arr.sort()\n",
    "    \n",
    "    \n",
    "    \n",
    "    \n",
    "\n",
    "\n",
    "\n"
   ]
  },
  {
   "cell_type": "code",
   "execution_count": null,
   "id": "ideal-fifteen",
   "metadata": {},
   "outputs": [],
   "source": [
    "search_closest([1,3,2,5,4,6,7,3], 4)"
   ]
  },
  {
   "cell_type": "code",
   "execution_count": 58,
   "id": "revolutionary-baseball",
   "metadata": {},
   "outputs": [],
   "source": [
    "# Squaring a Sorted Array\n",
    "\n",
    "\n",
    "def sorted_squares(arr):\n",
    "    \n",
    "#     # locating the first positive integer\n",
    "    \n",
    "#     fpi = 0\n",
    "    \n",
    "#     for ind,val in enumerate(nums):\n",
    "        \n",
    "#         if val >=0:\n",
    "# #             print(ind,val)\n",
    "#             fpi = ind\n",
    "#             break\n",
    "            \n",
    "#     print(fpi)\n",
    "#     print(\"---\")\n",
    "    \n",
    "#     left = fpi\n",
    "#     right = fpi\n",
    "\n",
    "    n = len(arr)\n",
    "    squares = []\n",
    "    \n",
    "    left = 0\n",
    "    right = n-1\n",
    "    \n",
    "    while left <= right:\n",
    "        if arr[right]*arr[right] > arr[left]*arr[left]:\n",
    "#             print(right)\n",
    "            squares.append(arr[right])\n",
    "\n",
    "            \n",
    "            right -=1\n",
    "            \n",
    "        else:\n",
    "#             print(left)\n",
    "            squares.append(arr[left])\n",
    "            left +=1\n",
    "    \n",
    "    return squares\n",
    "    "
   ]
  },
  {
   "cell_type": "code",
   "execution_count": 59,
   "id": "soviet-certificate",
   "metadata": {},
   "outputs": [
    {
     "data": {
      "text/plain": [
       "[4, 3, -2, 2, -1, 0]"
      ]
     },
     "execution_count": 59,
     "metadata": {},
     "output_type": "execute_result"
    }
   ],
   "source": [
    "sorted_squares([-2, -1, 0, 2, 3,4])"
   ]
  },
  {
   "cell_type": "code",
   "execution_count": null,
   "id": "hollywood-laser",
   "metadata": {},
   "outputs": [],
   "source": []
  },
  {
   "cell_type": "code",
   "execution_count": 4,
   "id": "miniature-fleece",
   "metadata": {},
   "outputs": [],
   "source": [
    "# Triplet Sum to Zero (medium)\n",
    "\n",
    "def searchTriplets_bf(arr):\n",
    "    found = False\n",
    "    n = len(arr)\n",
    "    \n",
    "    \n",
    "    for i in range(0,n-2):\n",
    "        for j in range(i+1,n-1):\n",
    "            for k in range(j+1,n):\n",
    "                if  (arr[i] + arr[j] + arr[k] == 0):\n",
    "                    \n",
    "                    print(arr[i], arr[j], arr[k])\n",
    "                    found = True\n",
    "                    \n",
    "                    \n",
    "    if (found == False):\n",
    "        print(\" not exist \")                    \n",
    "    "
   ]
  },
  {
   "cell_type": "code",
   "execution_count": 5,
   "id": "exotic-slope",
   "metadata": {},
   "outputs": [
    {
     "name": "stdout",
     "output_type": "stream",
     "text": [
      "-3 1 2\n",
      "-3 2 1\n",
      "0 1 -1\n",
      "0 2 -2\n",
      "0 -1 1\n",
      "1 1 -2\n"
     ]
    }
   ],
   "source": [
    "searchTriplets_bf([-3, 0, 1, 2, -1, 1, -2])"
   ]
  },
  {
   "cell_type": "code",
   "execution_count": 52,
   "id": "proof-experiment",
   "metadata": {},
   "outputs": [],
   "source": [
    "def searchDoubles(main_num,arr,num):\n",
    "    \n",
    "    arr.sort()\n",
    "#     print(arr)\n",
    "    \n",
    "    output = []\n",
    "    left = 0\n",
    "    right = len(arr)-1\n",
    "    \n",
    "    while left < right:\n",
    "        check_sum = arr[left] + arr[right]\n",
    "#         print(check_sum)\n",
    "        \n",
    "        if check_sum > num:\n",
    "            right -=1\n",
    "        elif check_sum < num:\n",
    "            left +=1\n",
    "        else:\n",
    "#             print(\"Found!\")\n",
    "            output.append([main_num, arr[left],arr[right]])\n",
    "            right -=1\n",
    "            left +=1\n",
    "            \n",
    "    \n",
    "    return (output)\n",
    "    \n",
    "    \n",
    "def searchTriplets (arr):\n",
    "    \n",
    "    arr.sort()\n",
    "    \n",
    "    for i in range(len(arr)):\n",
    "        target_num = 0-arr[i]\n",
    "        \n",
    "#         print(arr[i])\n",
    "        \n",
    "        doubles = searchDoubles(arr[i],arr[i+1:],target_num)\n",
    "    \n",
    "        print(doubles)\n",
    "        \n",
    "#         print(\"\\n\")\n",
    "    \n",
    "    "
   ]
  },
  {
   "cell_type": "code",
   "execution_count": 53,
   "id": "valued-appraisal",
   "metadata": {},
   "outputs": [
    {
     "name": "stdout",
     "output_type": "stream",
     "text": [
      "[[-5, 2, 3]]\n",
      "[[-2, -1, 3]]\n",
      "[]\n",
      "[]\n",
      "[]\n"
     ]
    }
   ],
   "source": [
    "searchTriplets([-5, 2, -1, -2, 3])"
   ]
  },
  {
   "cell_type": "code",
   "execution_count": null,
   "id": "flexible-indication",
   "metadata": {},
   "outputs": [],
   "source": [
    "[[-3, 1, 2], [-2, 0, 2], [-2, 1, 1], [-1, 0, 1]]"
   ]
  },
  {
   "cell_type": "code",
   "execution_count": 83,
   "id": "unlimited-hartford",
   "metadata": {},
   "outputs": [],
   "source": [
    "# Triplet Sum Close to Target (medium)\n",
    "\n",
    "# Brute Force algo.\n",
    "\n",
    "import math\n",
    "\n",
    "def searchTriplet_bruteforce(arr, target_sum):\n",
    "    \n",
    "    min_dist = abs(target_sum)\n",
    "    pair_sum = None\n",
    "    \n",
    "    n = len(arr)\n",
    "    \n",
    "    for i in range(0,n-2):\n",
    "        for j in range(i+1,n-1):\n",
    "            for k in range(j+1, n):\n",
    "                \n",
    "                temp_sum_pair = abs(arr[i]+arr[j]+arr[k])\n",
    "                \n",
    "                pair_diff = abs(abs(target_sum)- temp_sum_pair)\n",
    "                \n",
    "                if pair_diff < min_dist :\n",
    "                    min_dist = pair_diff\n",
    "                    pair_sum = temp_sum_pair\n",
    "                    \n",
    "                elif pair_diff == min_dist:\n",
    "                    if pair_sum > temp_sum_pair:\n",
    "                        pair_sum = temp_sum_pair\n",
    "                        \n",
    "                else:\n",
    "                    pass\n",
    "\n",
    "    return pair_sum\n",
    "\n",
    "###################################################################\n",
    "\n",
    "# With Algo.\n",
    "\n",
    "\n",
    "#Create a function Two Sum that finds the closest sum of pairs of numbers on a sorted array.\n",
    "\n",
    "\n",
    "\n",
    "\n",
    "# searchTriplet(arr, target_sum):\n",
    "    \n",
    "#     # Sorting the array\n",
    "#     arr.sort()\n",
    "    \n",
    "#     # Creating the global variables that we will return\n",
    "#     min_dist = abs(target_sum)\n",
    "#     pair_sum = None\n",
    "    \n",
    "#     n = len(arr)\n",
    "    \n",
    "    \n",
    "#     for i in range(0,n-2):\n",
    "        \n",
    "#         left = i+1\n",
    "#         right = n-1\n",
    "#         while left < right:\n",
    "            \n",
    "            \n",
    "def closest_double(arr, target_num) :\n",
    "    \n",
    "    distance = float('inf')\n",
    "    final_curr_sum = float('inf')\n",
    "    \n",
    "    \n",
    "    \n",
    "    left = 0\n",
    "    right = len(arr)-1\n",
    "    \n",
    "    while left < right:\n",
    "        \n",
    "        current_sum = arr[left] + arr[right]\n",
    "#         print(left,right)\n",
    "        \n",
    "        if abs(target_num-current_sum) < distance:\n",
    "            distance = abs(target_num-current_sum)\n",
    "            final_curr_sum = current_sum\n",
    "        else:\n",
    "            pass\n",
    "            \n",
    "        \n",
    "        \n",
    "        if current_sum < target_num:\n",
    "            left +=1\n",
    "        elif current_sum > target_num:\n",
    "            right -=1\n",
    "        elif  current_sum == target_num:\n",
    "            left +=1\n",
    "            right -=1\n",
    "        \n",
    "            \n",
    "    \n",
    "    return(final_curr_sum)\n",
    "    \n",
    "    \n",
    "    \n",
    "    \n",
    "def searchTriplet(arr, target_sum):\n",
    "    \n",
    "    global_min = float('inf')\n",
    "    \n",
    "    for i in range(len(arr)-2):\n",
    "        \n",
    "        \n",
    "#         print(arr[i])\n",
    "        \n",
    "        target_num = target_sum -arr[i]\n",
    "        subarray_sum = closest_double(arr[i+1:], target_num)\n",
    "#         print(subarray_sum)\n",
    "    \n",
    "        print(arr[i]+ subarray_sum)\n",
    "        \n",
    "        if global_min > arr[i]+ subarray_sum:\n",
    "            global_min = arr[i]+ subarray_sum\n",
    "        \n",
    "        \n",
    "#         print(\"\\n\")\n",
    "        \n",
    "        \n",
    "    return(global_min)\n",
    "    \n",
    "    \n",
    "    \n",
    "    \n",
    "\n"
   ]
  },
  {
   "cell_type": "code",
   "execution_count": 82,
   "id": "dutch-question",
   "metadata": {},
   "outputs": [
    {
     "data": {
      "text/plain": [
       "2"
      ]
     },
     "execution_count": 82,
     "metadata": {},
     "output_type": "execute_result"
    }
   ],
   "source": [
    "closest_double([0,1,1],99)"
   ]
  },
  {
   "cell_type": "code",
   "execution_count": 84,
   "id": "religious-automation",
   "metadata": {},
   "outputs": [
    {
     "name": "stdout",
     "output_type": "stream",
     "text": [
      "3\n",
      "2\n"
     ]
    },
    {
     "data": {
      "text/plain": [
       "2"
      ]
     },
     "execution_count": 84,
     "metadata": {},
     "output_type": "execute_result"
    }
   ],
   "source": [
    "searchTriplet([1, 0, 1, 1], 100)"
   ]
  },
  {
   "cell_type": "code",
   "execution_count": 8,
   "id": "logical-alias",
   "metadata": {},
   "outputs": [
    {
     "data": {
      "text/plain": [
       "4"
      ]
     },
     "execution_count": 8,
     "metadata": {},
     "output_type": "execute_result"
    }
   ],
   "source": [
    "searchTriplet_bruteforce([0, 0, 1, 1, 2, 6], 5 )"
   ]
  },
  {
   "cell_type": "code",
   "execution_count": null,
   "id": "whole-guide",
   "metadata": {},
   "outputs": [],
   "source": []
  },
  {
   "cell_type": "code",
   "execution_count": null,
   "id": "joint-expense",
   "metadata": {},
   "outputs": [],
   "source": [
    "# Subarray with product Less than target\n",
    "\n",
    "\n",
    "def findSubarrays(arr, target):\n",
    "    \n",
    "    left = right = 0\n",
    "    \n",
    "    while right < len(arr)-1 and left < right:\n",
    "        \n",
    "        \n",
    "        \n",
    "        \n",
    "    \n",
    "    "
   ]
  },
  {
   "cell_type": "code",
   "execution_count": null,
   "id": "loved-parallel",
   "metadata": {},
   "outputs": [],
   "source": [
    "findSubarrays([2, 5, 3, 10], target=30)"
   ]
  }
 ],
 "metadata": {
  "kernelspec": {
   "display_name": "Python 3",
   "language": "python",
   "name": "python3"
  },
  "language_info": {
   "codemirror_mode": {
    "name": "ipython",
    "version": 3
   },
   "file_extension": ".py",
   "mimetype": "text/x-python",
   "name": "python",
   "nbconvert_exporter": "python",
   "pygments_lexer": "ipython3",
   "version": "3.6.12"
  }
 },
 "nbformat": 4,
 "nbformat_minor": 5
}
